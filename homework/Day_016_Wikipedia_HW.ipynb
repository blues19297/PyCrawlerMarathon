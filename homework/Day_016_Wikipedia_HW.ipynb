{
 "cells": [
  {
   "cell_type": "markdown",
   "metadata": {},
   "source": [
    "# Wikipedia爬蟲練習\n",
    "## 範例：練習是從Wikipedia中爬取文章。先定義一個搜尋的關鍵字，擷取該關鍵字詞的文章。"
   ]
  },
  {
   "cell_type": "code",
   "execution_count": 6,
   "metadata": {},
   "outputs": [],
   "source": [
    "import requests\n",
    "import re\n",
    "from bs4 import BeautifulSoup"
   ]
  },
  {
   "cell_type": "markdown",
   "metadata": {},
   "source": [
    "### 先定義一個我們想搜尋的字詞，並將它轉換成UTF-8編碼後的URL"
   ]
  },
  {
   "cell_type": "code",
   "execution_count": 9,
   "metadata": {},
   "outputs": [
    {
     "name": "stdout",
     "output_type": "stream",
     "text": [
      "新垣結衣: %E6%96%B0%E5%9E%A3%E7%B5%90%E8%A1%A3\n",
      "/wiki/%E6%96%B0%E5%9E%A3%E7%B5%90%E8%A1%A3\n"
     ]
    }
   ],
   "source": [
    "input_keyword = \"新垣結衣\"  # 這裡可以自己定義有興趣的關鍵字\n",
    "\n",
    "utf8_url = repr(input_keyword.encode('UTF-8')).upper()  # 編碼成UTF-8並轉成大寫字元\n",
    "utf8_url = utf8_url.replace(\"\\\\X\", \"%\")                 # 用 '%' 取代 '\\X' \n",
    "print(\"%s: %s\" % (input_keyword, utf8_url[2:-1:1]))     # 擷取中間的編碼結果\n",
    "\n",
    "# 組成Wiki關鍵字搜尋的網址格式\n",
    "root_keyword_link = '/wiki/' + utf8_url[2:-1:1]\n",
    "print(root_keyword_link)"
   ]
  },
  {
   "cell_type": "markdown",
   "metadata": {},
   "source": [
    "### 範例1：送出關鍵字請求後，爬取該關鍵字的文章內容"
   ]
  },
  {
   "cell_type": "code",
   "execution_count": 11,
   "metadata": {},
   "outputs": [
    {
     "name": "stdout",
     "output_type": "stream",
     "text": [
      "新垣結衣（日語：新垣 結衣／あらがき ゆい Aragaki Yui，1988年6月11日－），日本女演員、歌手及模特兒，出生於沖繩縣那霸市，身高169公分[1]，血型A型[2]，目前為日本LesPros娛樂旗下的藝人。\n",
      "\n",
      "2001年，因姊姊年齡與身高未符資格而無法參加當時《nicola（日語：ニコラ (雑誌)）》舉辦的模特兒甄選比賽，遂而推薦妹妹新垣結衣代替，結果意外獲得最優秀獎。此後在擔任模特兒的過程中，受到許多讀者歡迎，從《nicola》雜誌畢業為止的模特兒封面登場次數為當時最多的15次，並與同時期的模特兒虎南有香（日語：虎南有香）結成好友。\n",
      "\n",
      "2005年，從《nicola》雜誌畢後，參與演出深夜的特攝劇《sh15uya》，並在電視劇《東大特訓班》演出開始受到關注。同年參與東日本電信電話（日語：東日本電信電話）（NTT東日本）一系列的企業形象廣告，並在日本NTV的綜藝節目裡擔任短劇演員，另作為雜誌模特兒，主要為少年雜誌拍攝平面照片。\n",
      "\n",
      "2006年，為電影《超劇場版 Keroro軍曹》的角色「Mirara」配音。因接連參與日本電視台（NTV）土9電視劇《辣妹掌門人》及《My☆Boss My☆Hero》而引起話題。3月3日，第一本寫真集《水漾☆青春》出版，3月5日發售，從12點開始在福家書店銀座店，舉行簽名和握手活動，有1500人到場，日職監督長嶋茂雄也到場共享盛況；5月17日發售寫真影像「相遇」，寫真集封面日文標題「ちゅら」在琉球語是「美麗」的意思；於10月2日起，開始在廣播節目《GIRLS LOCKS》主持，和已畢業的戶田惠梨香是好友，曾與她一起送禮物給聽眾。年末，擔任日本格力高Pocky廣告代言人並參與廣播節目演出，其後人氣漸升[3]，並發行個人第一次的明星交換收藏卡（TRADING CARD），發售活動當天兩個場地約1300人到場，4400套完售，創下歷來第一次發行明星交換卡單日售出的最高紀錄。\n",
      "\n",
      "2007年初，代言第85屆日本全國高校足球賽的應援經理，與第一任應援經理堀北真希皆為日本廣播節目《School of Locks》裡《Girls Locks》單元的主持人。另擔任2007年度的日本紅十字會勸導捐血代言人，原本每年代言人都是在該年度舉辦成年式，但新垣結衣與鈴木杏（2004年度）兩人卻是例外。2007年3月22日，推出第二本寫真集《純白18》，是以北國函館雪景與溫泉的背景來拍攝。2007年中，畢業於日出高等學校後未再升學，專注於演藝圈發展，並接演三部電影《戀愛部屋（日語：恋するマドリ）》、《暴走少年（日語：ワルボロ#.E6.98.A0.E7.94.BB）》、《戀空》；期間同時演出日9電視劇《父女變變變》。隨著首部主演電影《戀愛部屋》上映，同時擔任主題曲「追憶」的演唱者，之後，另演唱《戀空》的插曲「Heavenly Days」，皆未發行單曲。11月8日個人官方BLOG正式運行。12月5日發表個人音樂專輯《天空》，並參與初回版專輯封面設計與作詞，與《School of Locks》合作在12月21日於日本武道館舉辦歌手出道活動，是日本發片後最快登上武道館演唱的女歌手，並在第58屆NHK紅白歌唱大賽擔任審查來賓，也擔任睽違紅白16年的槙原敬之演唱歌曲《GREEN DAYS》時的介紹者。\n",
      "\n",
      "2008年初，因《戀空》等電影接連獲得數個電影新人賞得主,聲名大噪。同年，與山下智久、戶田惠梨香等共演《空中急診英雄》（木10），是繼2005年的《東大特訓班》和2006年的《辣妹掌門人》後再次與山下智久以及戶田惠梨香共演。而《空中急診英雄新春特別版》則在2009年1月10日播映。\n",
      "\n",
      "2009年初，與松本潤共演《Smile》(金10)，在劇中飾演失聲少女，因此劇獲得助演女優賞。並於年中推出第二張專輯《Hug》。\n",
      "\n",
      "2010年初，繼續與山下智久、戶田惠梨香等共演《空中急診英雄第二季》（月9）。年中，與生田斗真拍攝電影《花水木》，其間新垣結衣到加拿大、紐約等地取境。為配合電影而推出書籍《The Three Little Pigs》，此書籍由新垣結衣親自繪畫。同年推出的第三張專輯《虹》，當中收錄了自己主演的電影《花水木》的主題曲，其中兩首歌為新垣結衣親自填詞。\n",
      "\n",
      "2011年，秘密拍攝推理電影《麒麟之翼～劇場版·新參者》，與阿部寬共演，也是繼2005年《東大特訓班》後再次合作。於7月11日，初次主演連續電視劇《全開女孩》（月9）開播，相隔一年再推出新作。2011年，接拍由日本電視台改編自日本漫畫大師高橋留美子熱門漫畫《亂馬1/2》的2小時特別劇，擔任主演天道茜一角。為了這個角色有更好的效果特意剪去25公分長的頭髮，自中學時代後首次留短髮。\n",
      "\n",
      "2012年1月3日，與大野智共演由人氣作家東川篤哉的人氣小說改編的同名戲劇作品《再也不誘拐了》播映；4月17日，與堺雅人共演的《王牌大律師》（火9）開播；8月25-26日與嵐共同主持日本電視台《24小時TV35 愛拯救地球》、並於12月30日「第54屆日本唱片大賞」（TBS）與安住紳一郎（日語：安住绅一郎）同台，首次擔任大型頒獎典禮主持。\n",
      "\n",
      "2013年4月13日，《王牌大律師》特別篇播映，片尾宣布同年秋季開播第二季；4月14日第二次主演連續電視劇《公關室愛情》（日9）開播，共演的有綾野剛和柴田恭兵（日語：柴田恭兵）等人；10月9日與堺雅人、岡田將生共演《王牌大律師》。\n",
      "\n",
      "2014年1月12日，向井理主演的電視劇《S-終極警官》首播，劇中首次飾演槍手。11月8日，電影《再一次說愛你》公開上映[4]，片中首次挑戰母親角色，由深川榮洋（日語：深川榮洋）執導；11月22日，與堺雅人共演的《王牌大律師之\"賤\"得好吃驚》播映。\n",
      "\n",
      "2015年2月28日，主演電影《再會吧！青春小鳥》公開上映[5]，片中首次飾演老師的角色，劇本改編自中田永一同名小說。於8月29日，與向井理共演電影《S-最後的警官-奪還 RECOVERY OF OUR FUTURE》公開上映。10月10日第三次主演連續電視劇《掟上今日子的備忘錄》（土9）開播，片中飾演喜歡推論與錢且一睡著便會記憶重置的白髮偵探，共演者有岡田將生、及川光博等演員。12月25日，官方粉絲俱樂部「Yui's Room」正式開設。\n",
      "\n",
      "2016年10月11日，第四次主演的連續電視劇《月薪嬌妻》（火10）開播，這也是新垣繼《公關室愛情》與《掟上今日子的備忘錄》後，第三次演出由野木亞紀子擔任編劇的電視劇。片中飾演待業中25歲派遣職員而與35歲專業單身上班族「契約結婚」的妄想女子，並於年底擔任第67回NHK紅白歌唱大賽審查來賓。\n",
      "\n",
      "2017年3月23日，與役所廣司共演的電視特別劇《羈絆~奔跑的奇蹟小馬（日語：絆〜走れ奇跡の子馬〜）》在NHK播映，24日播畢，片中飾演與父親（役所廣司）培育照料311地震出生小馬(里昂)的長女，是個災後努力向上的故事。7月17日，《空中急診英雄第三季》（月9）開播，與第二季時隔七年。片中飾演於翔北急診中心研修醫結業後，留在人力不足的前線並堅守奮鬥的飛行醫生領導；10月21日，與瑛太雙主演電影《乒乓少女大逆襲》公開上映，並以此片獲得藍絲帶獎主演女優賞。\n",
      "\n",
      "2018年7月27日，與山下智久等人共演的《電影版 空中急診英雄 》在日本公開上映；7月28日，與成田凌等人共演《空中急診英雄 另一個戰爭》特別篇播出，以劇中實習醫生為主軸，串連第三季與劇場版之間的故事。10月10日，第五次主演連續電視劇《無法成為野獸的我們》（水10）開播，與松田龍平雙主演，片中飾演總是面帶笑容、工作完美而想坦率戀愛的女性，與不相信任何人，但受女性歡迎的毒舌會計師，於工作結束後在酒吧相遇的故事。\n",
      "\n",
      "2019年12月5日，時隔7年「YUI ARAGAKI NYLON JAPAN ARCHIVE BOOK 2010-2019」寫真集正式推出，裡面包含2010-2019年於「NYLON JAPAN」雜誌所攝集錦及部分新攝，同時收錄約1萬字訪談，製成橫跨9年的大型寫真，並擔任編輯長參與監修與企劃。\n",
      "\n",
      "預於2020年8月2日，與室剛共演的連續電視劇《傻親青春白書》（日10）開播，片中飾演喜愛女兒而進入同所大學就讀之小說家早逝的妻子，於回憶場合中出現。\n",
      "\n"
     ]
    }
   ],
   "source": [
    "# 模擬封包的標頭\n",
    "headers = {\n",
    "    'authority': 'zh.wikipedia.org',\n",
    "    'method': 'GET',\n",
    "    'path': '/wiki/' + root_keyword_link,\n",
    "    'scheme': 'https',\n",
    "    'accept': 'text/html,application/xhtml+xml,application/xml;q=0.9,image/webp,image/apng,*/*;q=0.8,application/signed-exchange;v=b3',\n",
    "    'accept-encoding': 'gzip, deflate, br',\n",
    "    'accept-language': 'zh-TW,zh;q=0.9,en-US;q=0.8,en;q=0.7,zh-CN;q=0.6',\n",
    "    'cookie': 'GeoIP=TW:TPE:Taipei:25.05:121.53:v4; TBLkisOn=0; mwPhp7Seed=8b8; WMF-Last-Access-Global=04-Jun-2019; WMF-Last-Access=04-Jun-2019',\n",
    "    'dnt': '1',\n",
    "    #'if-modified-since': 'Tue, 04 Jun 2019 12:03:22 GMT',\n",
    "    'referer': 'https://zh.wikipedia.org/wiki/Wikipedia:%E9%A6%96%E9%A1%B5',\n",
    "    'upgrade-insecure-requests': '1',\n",
    "    'user-agent': 'Mozilla/5.0 (Windows NT 10.0; Win64; x64) AppleWebKit/537.36 (KHTML, like Gecko) Chrome/74.0.3729.169 Safari/537.36'\n",
    "}    \n",
    "\n",
    "url = 'https://zh.wikipedia.org' + root_keyword_link  # 組合關鍵字查詢URL\n",
    "resp = requests.get(url, headers=headers)\n",
    "resp.encoding = 'utf-8'\n",
    "\n",
    "html = BeautifulSoup(resp.text, \"lxml\")\n",
    "content = html.find(name='div', attrs={'id':'mw-content-text'}).find_all(name='p')\n",
    "\n",
    "#\n",
    "# 解析回傳資料，並萃取文章內容\n",
    "#\n",
    "for paragraph in content:\n",
    "    print(paragraph.get_text())\n"
   ]
  },
  {
   "cell_type": "markdown",
   "metadata": {},
   "source": [
    "### 範例2：從爬取的文章內容中，擷取出有外部連結的關鍵字。這些關鍵字在文章中是以藍色字體顯示，會連到外部的網頁，並解釋其內容。"
   ]
  },
  {
   "cell_type": "code",
   "execution_count": 13,
   "metadata": {},
   "outputs": [
    {
     "name": "stdout",
     "output_type": "stream",
     "text": [
      "外部連結: [日本] /wiki/%E6%97%A5%E6%9C%AC\n",
      "外部連結: [女演員] /wiki/%E5%A5%B3%E6%BC%94%E5%93%A1\n",
      "外部連結: [歌手] /wiki/%E6%AD%8C%E6%89%8B\n",
      "外部連結: [模特兒] /wiki/%E6%A8%A1%E7%89%B9%E5%85%92\n",
      "外部連結: [沖繩縣] /wiki/%E6%B2%96%E7%B9%A9%E7%B8%A3\n",
      "外部連結: [那霸市] /wiki/%E9%82%A3%E9%9C%B8%E5%B8%82\n",
      "外部連結: [身高] /wiki/%E8%BA%AB%E9%AB%98\n",
      "外部連結: [公分] /wiki/%E5%85%AC%E5%88%86\n",
      "外部連結: [血型] /wiki/%E8%A1%80%E5%9E%8B\n",
      "外部連結: [A型] /wiki/A%E5%9E%8B\n",
      "外部連結: [日本] /wiki/%E6%97%A5%E6%9C%AC\n",
      "外部連結: [LesPros娛樂] /wiki/LesPros%E5%A8%9B%E6%A8%82\n",
      "外部連結: [藝人] /wiki/%E8%97%9D%E4%BA%BA\n",
      "外部連結: [模特兒] /wiki/%E6%A8%A1%E7%89%B9%E5%85%92\n",
      "外部連結: [sh15uya] /wiki/Sh15uya\n",
      "外部連結: [東大特訓班] /wiki/%E6%9D%B1%E5%A4%A7%E7%89%B9%E8%A8%93%E7%8F%AD\n",
      "外部連結: [NTT] /wiki/%E6%97%A5%E6%9C%AC%E9%9B%BB%E4%BF%A1%E9%9B%BB%E8%A9%B1\n",
      "外部連結: [NTV] /wiki/NTV\n",
      "外部連結: [綜藝節目] /wiki/%E7%B6%9C%E8%97%9D%E7%AF%80%E7%9B%AE\n",
      "外部連結: [短劇] /wiki/%E7%9F%AD%E5%8A%87\n",
      "外部連結: [超劇場版 Keroro軍曹] /wiki/Keroro%E8%BB%8D%E6%9B%B9_(%E5%8A%87%E5%A0%B4%E7%89%88)\n",
      "外部連結: [日本電視台] /wiki/%E6%97%A5%E6%9C%AC%E9%9B%BB%E8%A6%96%E5%8F%B0\n",
      "外部連結: [辣妹掌門人] /wiki/%E8%BE%A3%E5%A6%B9%E6%8E%8C%E9%96%80%E4%BA%BA_(%E6%97%A5%E6%9C%AC%E9%9B%BB%E8%A6%96%E5%8A%87)\n",
      "外部連結: [My☆Boss My☆Hero] /wiki/My%E2%98%86Boss_My%E2%98%86Hero\n",
      "外部連結: [日職] /wiki/NPB\n",
      "外部連結: [長嶋茂雄] /wiki/%E9%95%B7%E5%B6%8B%E8%8C%82%E9%9B%84\n",
      "外部連結: [琉球語] /wiki/%E7%90%89%E7%90%83%E8%AA%9E\n",
      "外部連結: [戶田惠梨香] /wiki/%E6%88%B6%E7%94%B0%E6%83%A0%E6%A2%A8%E9%A6%99\n",
      "外部連結: [Pocky] /wiki/Pocky\n",
      "外部連結: [全國高校足球賽] /wiki/%E5%85%A8%E5%9C%8B%E9%AB%98%E7%AD%89%E5%AD%B8%E6%A0%A1%E8%B6%B3%E7%90%83%E9%81%B8%E6%89%8B%E6%AC%8A%E5%A4%A7%E6%9C%83\n",
      "外部連結: [堀北真希] /wiki/%E5%A0%80%E5%8C%97%E7%9C%9F%E5%B8%8C\n",
      "外部連結: [日本紅十字會] /wiki/%E6%97%A5%E6%9C%AC%E7%B4%85%E5%8D%81%E5%AD%97%E6%9C%83\n",
      "外部連結: [鈴木杏] /wiki/%E9%88%B4%E6%9C%A8%E6%9D%8F\n",
      "外部連結: [寫真集] /wiki/%E5%AF%AB%E7%9C%9F%E9%9B%86\n",
      "外部連結: [演藝圈] /wiki/%E6%BC%94%E8%97%9D%E5%9C%88\n",
      "外部連結: [戀空] /wiki/%E6%81%8B%E7%A9%BA_(%E7%94%B5%E5%BD%B1)\n",
      "外部連結: [父女變變變] /wiki/%E7%88%B6%E5%A5%B3%E8%AE%8A%E8%AE%8A%E8%AE%8A\n",
      "外部連結: [主題曲] /wiki/%E4%B8%BB%E9%A1%8C%E6%9B%B2\n",
      "外部連結: [戀空] /wiki/%E6%81%8B%E7%A9%BA_(%E7%94%B5%E5%BD%B1)\n",
      "外部連結: [單曲] /wiki/%E5%96%AE%E6%9B%B2\n",
      "外部連結: [BLOG] /wiki/BLOG\n",
      "外部連結: [天空] /wiki/%E5%A4%A9%E7%A9%BA\n",
      "外部連結: [專輯封面] /wiki/%E5%B0%88%E8%BC%AF%E5%B0%81%E9%9D%A2\n",
      "外部連結: [作詞] /wiki/%E4%BD%9C%E8%A9%9E\n",
      "外部連結: [武道館] /wiki/%E6%AD%A6%E9%81%93%E9%A4%A8\n",
      "外部連結: [NHK] /wiki/NHK\n",
      "外部連結: [紅白歌唱大賽] /wiki/%E7%B4%85%E7%99%BD%E6%AD%8C%E5%94%B1%E5%A4%A7%E8%B3%BD\n",
      "外部連結: [戀空] /wiki/%E6%81%8B%E7%A9%BA_(%E7%94%B5%E5%BD%B1)\n",
      "外部連結: [山下智久] /wiki/%E5%B1%B1%E4%B8%8B%E6%99%BA%E4%B9%85\n",
      "外部連結: [戶田惠梨香] /wiki/%E6%88%B6%E7%94%B0%E6%83%A0%E6%A2%A8%E9%A6%99\n",
      "外部連結: [空中急診英雄] /wiki/%E7%A9%BA%E4%B8%AD%E6%80%A5%E8%A8%BA%E8%8B%B1%E9%9B%84\n",
      "外部連結: [山下智久] /wiki/%E5%B1%B1%E4%B8%8B%E6%99%BA%E4%B9%85\n",
      "外部連結: [戶田惠梨香] /wiki/%E6%88%B6%E7%94%B0%E6%83%A0%E6%A2%A8%E9%A6%99\n",
      "外部連結: [松本潤] /wiki/%E6%9D%BE%E6%9C%AC%E6%BD%A4\n",
      "外部連結: [Smile] /wiki/Smile_(%E6%97%A5%E6%9C%AC%E7%94%B5%E8%A7%86%E5%89%A7)\n",
      "外部連結: [山下智久] /wiki/%E5%B1%B1%E4%B8%8B%E6%99%BA%E4%B9%85\n",
      "外部連結: [戶田惠梨香] /wiki/%E6%88%B6%E7%94%B0%E6%83%A0%E6%A2%A8%E9%A6%99\n",
      "外部連結: [空中急診英雄] /wiki/%E7%A9%BA%E4%B8%AD%E6%80%A5%E8%A8%BA%E8%8B%B1%E9%9B%84\n",
      "外部連結: [生田斗真] /wiki/%E7%94%9F%E7%94%B0%E6%96%97%E7%9C%9F\n",
      "外部連結: [花水木] /wiki/%E8%8A%B1%E6%B0%B4%E6%9C%A8\n",
      "外部連結: [加拿大] /wiki/%E5%8A%A0%E6%8B%BF%E5%A4%A7\n",
      "外部連結: [紐約] /wiki/%E7%B4%90%E7%B4%84\n",
      "外部連結: [專輯] /wiki/%E5%B0%88%E8%BC%AF\n",
      "外部連結: [虹] /wiki/%E8%99%B9\n",
      "外部連結: [花水木] /wiki/%E8%8A%B1%E6%B0%B4%E6%9C%A8\n",
      "外部連結: [主題曲] /wiki/%E4%B8%BB%E9%A1%8C%E6%9B%B2\n",
      "外部連結: [麒麟之翼～劇場版·新參者] /wiki/%E9%BA%92%E9%BA%9F%E4%B9%8B%E7%BF%BC\n",
      "外部連結: [阿部寬] /wiki/%E9%98%BF%E9%83%A8%E5%AF%AC\n",
      "外部連結: [東大特訓班] /wiki/%E6%9D%B1%E5%A4%A7%E7%89%B9%E8%A8%93%E7%8F%AD\n",
      "外部連結: [全開女孩] /wiki/%E5%85%A8%E9%96%8B%E5%A5%B3%E5%AD%A9\n",
      "外部連結: [日本電視台] /wiki/%E6%97%A5%E6%9C%AC%E9%9B%BB%E8%A6%96%E5%8F%B0\n",
      "外部連結: [高橋留美子] /wiki/%E9%AB%98%E6%A9%8B%E7%95%99%E7%BE%8E%E5%AD%90\n",
      "外部連結: [亂馬1/2] /wiki/%E4%BA%82%E9%A6%AC1/2\n",
      "外部連結: [大野智] /wiki/%E5%A4%A7%E9%87%8E%E6%99%BA\n",
      "外部連結: [東川篤哉] /wiki/%E6%9D%B1%E5%B7%9D%E7%AF%A4%E5%93%89\n",
      "外部連結: [再也不誘拐了] /wiki/%E5%86%8D%E4%B9%9F%E4%B8%8D%E8%AA%98%E6%8B%90%E4%BA%86\n",
      "外部連結: [堺雅人] /wiki/%E5%A0%BA%E9%9B%85%E4%BA%BA\n",
      "外部連結: [王牌大律師] /wiki/%E7%8E%8B%E7%89%8C%E5%A4%A7%E5%BE%8B%E5%B8%AB\n",
      "外部連結: [嵐] /wiki/%E5%B5%90\n",
      "外部連結: [日本電視台] /wiki/%E6%97%A5%E6%9C%AC%E9%9B%BB%E8%A6%96%E5%8F%B0\n",
      "外部連結: [24小時TV35 愛拯救地球] /wiki/24%E5%B0%8F%E6%99%82%E9%9B%BB%E8%A6%96_%E3%80%8C%E6%84%9B%E5%BF%83%E6%95%91%E5%9C%B0%E7%90%83%E3%80%8D\n",
      "外部連結: [TBS] /wiki/TBS\n",
      "外部連結: [公關室愛情] /wiki/%E5%85%AC%E9%97%9C%E5%AE%A4%E6%84%9B%E6%83%85\n",
      "外部連結: [綾野剛] /wiki/%E7%B6%BE%E9%87%8E%E5%89%9B\n",
      "外部連結: [岡田將生] /wiki/%E5%B2%A1%E7%94%B0%E5%B0%87%E7%94%9F\n",
      "外部連結: [王牌大律師] /wiki/%E7%8E%8B%E7%89%8C%E5%A4%A7%E5%BE%8B%E5%B8%AB\n",
      "外部連結: [向井理] /wiki/%E5%90%91%E4%BA%95%E7%90%86\n",
      "外部連結: [S-終極警官] /wiki/S-%E7%B5%82%E6%A5%B5%E8%AD%A6%E5%AE%98\n",
      "外部連結: [再一次說愛你] /wiki/%E5%86%8D%E4%B8%80%E6%AC%A1%E8%AA%AA%E6%84%9B%E4%BD%A0\n",
      "外部連結: [王牌大律師] /wiki/%E7%8E%8B%E7%89%8C%E5%A4%A7%E5%BE%8B%E5%B8%AB\n",
      "外部連結: [再會吧！青春小鳥] /wiki/%E5%86%8D%E6%9C%83%E5%90%A7%EF%BC%81%E9%9D%92%E6%98%A5%E5%B0%8F%E9%B3%A5\n",
      "外部連結: [中田永一] /wiki/%E4%B8%AD%E7%94%B0%E6%B0%B8%E4%B8%80\n",
      "外部連結: [S-最後的警官-奪還 RECOVERY OF OUR FUTURE] /wiki/S-%E7%B5%82%E6%A5%B5%E8%AD%A6%E5%AE%98\n",
      "外部連結: [掟上今日子的備忘錄] /wiki/%E6%8E%9F%E4%B8%8A%E4%BB%8A%E6%97%A5%E5%AD%90%E7%9A%84%E5%82%99%E5%BF%98%E9%8C%84\n",
      "外部連結: [岡田將生] /wiki/%E5%B2%A1%E7%94%B0%E5%B0%87%E7%94%9F\n",
      "外部連結: [及川光博] /wiki/%E5%8F%8A%E5%B7%9D%E5%85%89%E5%8D%9A\n",
      "外部連結: [月薪嬌妻] /wiki/%E9%80%83%E9%81%BF%E9%9B%96%E5%8F%AF%E6%81%A5%E4%BD%86%E6%9C%89%E7%94%A8\n",
      "外部連結: [野木亞紀子] /wiki/%E9%87%8E%E6%9C%A8%E4%BA%9E%E7%B4%80%E5%AD%90\n",
      "外部連結: [NHK紅白歌唱大賽] /wiki/NHK%E7%B4%85%E7%99%BD%E6%AD%8C%E5%94%B1%E5%A4%A7%E8%B3%BD\n",
      "外部連結: [役所廣司] /wiki/%E5%BD%B9%E6%89%80%E5%BB%A3%E5%8F%B8\n",
      "外部連結: [空中急診英雄] /wiki/%E7%A9%BA%E4%B8%AD%E6%80%A5%E8%A8%BA%E8%8B%B1%E9%9B%84\n",
      "外部連結: [瑛太] /wiki/%E7%91%9B%E5%A4%AA\n",
      "外部連結: [乒乓少女大逆襲] /wiki/%E4%B9%92%E4%B9%93%E6%83%85%E4%BA%BA%E5%A4%A2\n",
      "外部連結: [藍絲帶獎] /wiki/%E8%97%8D%E7%B5%B2%E5%B8%B6%E7%8D%8E_(%E9%9B%BB%E5%BD%B1)\n",
      "外部連結: [山下智久] /wiki/%E5%B1%B1%E4%B8%8B%E6%99%BA%E4%B9%85\n",
      "外部連結: [電影版 空中急診英雄] /wiki/%E7%A9%BA%E4%B8%AD%E6%80%A5%E8%A8%BA%E8%8B%B1%E9%9B%84#電影\n",
      "外部連結: [成田凌] /wiki/%E6%88%90%E7%94%B0%E5%87%8C\n",
      "外部連結: [空中急診英雄] /wiki/%E7%A9%BA%E4%B8%AD%E6%80%A5%E8%A8%BA%E8%8B%B1%E9%9B%84\n",
      "外部連結: [無法成為野獸的我們] /wiki/%E7%84%A1%E6%B3%95%E6%88%90%E7%82%BA%E9%87%8E%E7%8D%B8%E7%9A%84%E6%88%91%E5%80%91\n",
      "外部連結: [松田龍平] /wiki/%E6%9D%BE%E7%94%B0%E9%BE%8D%E5%B9%B3\n",
      "外部連結: [NYLON] /wiki/NYLON\n",
      "外部連結: [室剛] /wiki/%E5%AE%A4%E5%89%9B\n",
      "外部連結: [傻親青春白書] /wiki/%E5%82%BB%E8%A6%AA%E9%9D%92%E6%98%A5%E7%99%BD%E6%9B%B8\n"
     ]
    }
   ],
   "source": [
    "for ext_link in content:\n",
    "    a_tag = ext_link.find_all('a', href=re.compile(\"^(/wiki/)((?!;)\\S)*$\"))\n",
    "    if len(a_tag) > 0:\n",
    "        for link_string in a_tag:\n",
    "            a_link = link_string[\"href\"]       # 外部連結的網址\n",
    "            a_keyword = link_string.get_text()  # 外部連結的中文名稱\n",
    "            print(\"外部連結: [%s] %s\" % (a_keyword, a_link))"
   ]
  },
  {
   "cell_type": "markdown",
   "metadata": {},
   "source": [
    "## 作業：接下來定義一個爬蟲函數，這個函數的主要工作為：\n",
    "### (1) 爬取當前關鍵字的解釋，並存入檔案(因為文章內容太多會佔滿整個頁面，所以存程檔案，方便後續檢視)\n",
    "### (2) 萃取出當前關鍵字所引用的外部連結，當作新的查詢關鍵字\n",
    "### (3) 把第(2)擷取到的關鍵字當作新的關鍵字，回到第(1)步，爬取新的關鍵字解釋。"
   ]
  },
  {
   "cell_type": "code",
   "execution_count": 61,
   "metadata": {},
   "outputs": [],
   "source": [
    "def WikiArticle(key_word_link, key_word, recursive):\n",
    "    \n",
    "    if (recursive <= max_recursive_depth):\n",
    "        print(\"遞迴層[%d] - %s (%s)\" % (recursive, key_word_link, key_word))\n",
    "        \n",
    "        # 模擬封包的標頭\n",
    "        headers = {\n",
    "            'authority': 'zh.wikipedia.org',\n",
    "            'method': 'GET',\n",
    "            'path': '/wiki/' + key_word_link,\n",
    "            'scheme': 'https',\n",
    "            'accept': 'text/html,application/xhtml+xml,application/xml;q=0.9,image/webp,image/apng,*/*;q=0.8,application/signed-exchange;v=b3',\n",
    "            'accept-encoding': 'gzip, deflate, br',\n",
    "            'accept-language': 'zh-TW,zh;q=0.9,en-US;q=0.8,en;q=0.7,zh-CN;q=0.6',\n",
    "            'cookie': 'GeoIP=TW:TPE:Taipei:25.05:121.53:v4; TBLkisOn=0; mwPhp7Seed=8b8; WMF-Last-Access-Global=04-Jun-2019; WMF-Last-Access=04-Jun-2019',\n",
    "            'dnt': '1',\n",
    "            #'if-modified-since': 'Tue, 04 Jun 2019 12:03:22 GMT',\n",
    "            'referer': 'https://zh.wikipedia.org/wiki/Wikipedia:%E9%A6%96%E9%A1%B5',\n",
    "            'upgrade-insecure-requests': '1',\n",
    "            'user-agent': 'Mozilla/5.0 (Windows NT 10.0; Win64; x64) AppleWebKit/537.36 (KHTML, like Gecko) Chrome/74.0.3729.169 Safari/537.36'\n",
    "        }    \n",
    "\n",
    "        url = 'https://zh.wikipedia.org' + key_word_link  # 組合關鍵字查詢URL\n",
    "        resp = requests.get(url, headers=headers)\n",
    "        resp.encoding = 'utf-8'\n",
    "\n",
    "        html = BeautifulSoup(resp.text, \"lxml\")\n",
    "        content = html.find(name='div', attrs={'id':'mw-content-text'}).find_all(name='p')\n",
    "        \n",
    "        #\n",
    "        # Part 1: 請參考範例1，爬取當前關鍵字的文章內容。\n",
    "        #         因為內容太多，我們把它寫入檔案，並以關鍵字作為檔案名稱，以便稍後查閱內容。\n",
    "        #         請先建立一個名為\"WikiArticle\"的資料夾，爬取到的文章內容會放在這個資料夾底下。\n",
    "        #\n",
    "        \n",
    "        f = ''\n",
    "        with open(\"./Data/WikiArticle/新垣結衣.txt\", \"w\", encoding = \"utf-8\") as fh:\n",
    "            for paragraph in content:\n",
    "                f = fh.write(paragraph.get_text())\n",
    "        try:\n",
    "            with open(\"./Data/WikiArticle/新垣結衣.txt\", \"r\", encoding = \"utf-8\") as fh:\n",
    "                f = fh.read()\n",
    "        except EnvironmentError: # parent of IOError, OSError *and* WindowsError where available\n",
    "            pass\n",
    "        \n",
    "\n",
    "\n",
    "        \n",
    "        #\n",
    "        # Part 2: 請參考範例2，萃取出本篇文章中所延伸引用的外部連結，並儲存在external_link_dict\n",
    "        #\n",
    "        external_link_dict = dict({})\n",
    "        for ext_link in content:\n",
    "            a_tag = ext_link.find_all('a', href=re.compile(\"^(/wiki/)((?!;)\\S)*$\"))\n",
    "            if len(a_tag) > 0:\n",
    "                for link_string in a_tag:\n",
    "                    a_link = link_string[\"href\"]       # 外部連結的網址\n",
    "                    a_keyword = link_string.get_text()  # 外部連結的中文名稱\n",
    "                    a_print = \"外部連結: [%s] %s\" % (a_keyword, a_link)\n",
    "                    external_link_dict.update(eval(a_link))\n",
    "\n",
    "                    \n",
    "        #\n",
    "        # Part 3: 將Part 2所收集的外部連結，當作新的關鍵字，繼續迭代深入爬蟲\n",
    "        #\n",
    "        if (len(external_link_dict) > 0):\n",
    "            \n",
    "            recursive = recursive + 1  # 遞迴深度加1\n",
    "            \n",
    "            for k, v in external_link_dict.items():\n",
    "                WikiArticle(k, v, recursive)  # 再次呼叫同樣的函數，執行同樣的流程\n",
    "                "
   ]
  },
  {
   "cell_type": "markdown",
   "metadata": {},
   "source": [
    "### 執行前個步驟定義好的爬蟲主程式"
   ]
  },
  {
   "cell_type": "code",
   "execution_count": 62,
   "metadata": {},
   "outputs": [
    {
     "name": "stdout",
     "output_type": "stream",
     "text": [
      "遞迴層[0] - /wiki/%E6%96%B0%E5%9E%A3%E7%B5%90%E8%A1%A3 (新垣結衣)\n"
     ]
    },
    {
     "ename": "SyntaxError",
     "evalue": "invalid syntax (<string>, line 1)",
     "output_type": "error",
     "traceback": [
      "Traceback \u001b[1;36m(most recent call last)\u001b[0m:\n",
      "  File \u001b[0;32m\"C:\\Users\\User\\Anaconda3\\lib\\site-packages\\IPython\\core\\interactiveshell.py\"\u001b[0m, line \u001b[0;32m2963\u001b[0m, in \u001b[0;35mrun_code\u001b[0m\n    exec(code_obj, self.user_global_ns, self.user_ns)\n",
      "  File \u001b[0;32m\"<ipython-input-62-5bcc6df82908>\"\u001b[0m, line \u001b[0;32m4\u001b[0m, in \u001b[0;35m<module>\u001b[0m\n    WikiArticle(root_keyword_link, input_keyword, 0)\n",
      "\u001b[1;36m  File \u001b[1;32m\"<ipython-input-61-fc34d380e9c8>\"\u001b[1;36m, line \u001b[1;32m60\u001b[1;36m, in \u001b[1;35mWikiArticle\u001b[1;36m\u001b[0m\n\u001b[1;33m    external_link_dict.update(eval(a_link))\u001b[0m\n",
      "\u001b[1;36m  File \u001b[1;32m\"<string>\"\u001b[1;36m, line \u001b[1;32m1\u001b[0m\n\u001b[1;33m    /wiki/%E6%97%A5%E6%9C%AC\u001b[0m\n\u001b[1;37m    ^\u001b[0m\n\u001b[1;31mSyntaxError\u001b[0m\u001b[1;31m:\u001b[0m invalid syntax\n"
     ]
    }
   ],
   "source": [
    "# 定義爬取的遞迴深度。深度不要訂太深，否則會爬很久。\n",
    "max_recursive_depth = 2\n",
    "\n",
    "WikiArticle(root_keyword_link, input_keyword, 0)"
   ]
  },
  {
   "cell_type": "code",
   "execution_count": null,
   "metadata": {},
   "outputs": [],
   "source": []
  }
 ],
 "metadata": {
  "kernelspec": {
   "display_name": "Python 3",
   "language": "python",
   "name": "python3"
  },
  "language_info": {
   "codemirror_mode": {
    "name": "ipython",
    "version": 3
   },
   "file_extension": ".py",
   "mimetype": "text/x-python",
   "name": "python",
   "nbconvert_exporter": "python",
   "pygments_lexer": "ipython3",
   "version": "3.6.5"
  }
 },
 "nbformat": 4,
 "nbformat_minor": 2
}
