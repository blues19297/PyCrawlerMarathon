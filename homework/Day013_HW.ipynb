{
 "cells": [
  {
   "cell_type": "markdown",
   "metadata": {},
   "source": [
    "# PTT 網路爬蟲實作練習\n",
    "\n",
    "\n",
    "* 能夠利用 Request + BeatifulSour 撰寫爬蟲，並存放到合適的資料結構\n"
   ]
  },
  {
   "cell_type": "markdown",
   "metadata": {},
   "source": [
    "## 作業目標\n",
    "\n",
    "根據範例 ，完成以下問題：\n",
    "\n",
    "* ① 印出最新文章的「作者」「標題」「時間」\n",
    "* ② 印出第一頁所有文章的「作者」「標題」「時間」\n"
   ]
  },
  {
   "cell_type": "markdown",
   "metadata": {},
   "source": [
    "### ① 印出最新文章的「作者」「標題」「時間」"
   ]
  },
  {
   "cell_type": "code",
   "execution_count": 49,
   "metadata": {},
   "outputs": [
    {
     "name": "stdout",
     "output_type": "stream",
     "text": [
      "標題  [情報]Lou:有球隊2名替補場均18+ 並還有2超巨嗎\n",
      "作者 VeryGoodBoy (低端男孩)\n",
      "時間 Wed Jul 22 12:37:36 2020\n"
     ]
    }
   ],
   "source": [
    "import requests\n",
    "from bs4 import BeautifulSoup\n",
    "url = \"https://www.ptt.cc/bbs/NBA/index.html\"\n",
    "r = requests.get(url)\n",
    "response = r.text\n",
    "soup = BeautifulSoup(response,\"html5lib\")\n",
    "d = soup.find(class_=\"title\")\n",
    "print('標題 ',d.text.replace('\\t', '').replace('\\n', ''))\n",
    "r = BeautifulSoup(requests.get('https://www.ptt.cc'+d.find('a')['href']).text, \"html5lib\")\n",
    "print('作者 ' + r.find(class_='article-meta-value').text)\n",
    "r = BeautifulSoup(requests.get('https://www.ptt.cc'+d.find('a')['href']).text, \"html5lib\")\n",
    "print('時間 ' + r.find_all(class_='article-meta-value')[3].text)"
   ]
  },
  {
   "cell_type": "markdown",
   "metadata": {},
   "source": [
    "### ② 印出第一頁所有文章的「作者」「標題」「時間」"
   ]
  },
  {
   "cell_type": "code",
   "execution_count": 58,
   "metadata": {},
   "outputs": [
    {
     "name": "stdout",
     "output_type": "stream",
     "text": [
      "標題  [情報]Lou:有球隊2名替補場均18+ 並還有2超巨嗎\n",
      "作者 VeryGoodBoy (低端男孩)\n",
      "時間 Wed Jul 22 12:37:36 2020\n",
      "標題  (本文已被刪除) [ericf129]\n",
      "標題  [花邊] 停賽期間沒籃框用？Antetokounmpo坦承騙人\n",
      "作者 thnlkj0665 (灰色地帶)\n",
      "時間 Wed Jul 22 15:51:00 2020\n",
      "標題  (本文已被刪除) [s106667]\n",
      "標題  [新聞] NBA／去年難堪被炒　退役球星爆前灰狼主帥將執教尼克\n",
      "作者 Vedan (味丹)\n",
      "時間 Wed Jul 22 16:12:10 2020\n",
      "標題  [情報] 例行賽獎項將在這幾天投票，季後賽公布\n",
      "作者 cody7052 (Sunrise)\n",
      "時間 Wed Jul 22 16:15:56 2020\n",
      "標題  [花邊] 學Kobe後仰跳投！男學生耍帥竟頭落地翻\n",
      "作者 eo4x (e04x)\n",
      "時間 Wed Jul 22 16:18:44 2020\n",
      "標題  [新聞] 挑戰連3年最佳防守球員 戈貝爾：有信心\n",
      "作者 lovea (lovea)\n",
      "時間 Wed Jul 22 20:45:28 2020\n",
      "標題  [公告] 板規v6.8\n",
      "標題  [公告] 版主上任相關事項 \n",
      "作者 qazwsx879345 (Rajon Rondo)\n",
      "時間 Fri Oct 25 10:44:03 2019\n",
      "標題  [情報] SEASON Schedule 賽程 March 19–20\n",
      "作者 Acetoxy (阿斯)\n",
      "時間 Mon Mar  2 01:19:40 2020\n",
      "標題  [公告] 第一次被退文，可在三天後刪除退文\n",
      "作者 Vedan (味丹)\n",
      "時間 Mon Mar  9 11:44:26 2020\n",
      "標題  [公告] 板務說明 (發錢)\n",
      "作者 Vedan (味丹)\n",
      "時間 Fri Apr  3 01:28:00 2020\n"
     ]
    }
   ],
   "source": [
    "import requests\n",
    "from bs4 import BeautifulSoup\n",
    "url = \"https://www.ptt.cc/bbs/NBA/index.html\"\n",
    "r = requests.get(url)\n",
    "response = r.text\n",
    "soup = BeautifulSoup(response,\"html5lib\")\n",
    "for d in soup.find_all(class_=\"title\"):\n",
    "    print('標題 ',d.text.replace('\\t', '').replace('\\n', ''))\n",
    "    try:\n",
    "        r = BeautifulSoup(requests.get('https://www.ptt.cc'+d.find('a')['href']).text, \"html5lib\")\n",
    "        print('作者 ' + r.find(class_='article-meta-value').text)\n",
    "    except:\n",
    "        continue\n",
    "    try:\n",
    "        r = BeautifulSoup(requests.get('https://www.ptt.cc'+d.find('a')['href']).text, \"html5lib\")\n",
    "        print('時間 ' + r.find_all(class_='article-meta-value')[3].text)\n",
    "    except:\n",
    "        continue"
   ]
  },
  {
   "cell_type": "markdown",
   "metadata": {},
   "source": [
    "### ③ 試著爬爬看其他版的文章"
   ]
  },
  {
   "cell_type": "code",
   "execution_count": 59,
   "metadata": {},
   "outputs": [
    {
     "name": "stdout",
     "output_type": "stream",
     "text": [
      "標題  (本文已被刪除) <otto89>\n",
      "標題  (本文已被刪除) <otto89>\n",
      "標題  [閒聊] 今日檢券員面試\n",
      "作者 neo999 (香折)\n",
      "時間 Sun Jul 19 18:37:59 2020\n",
      "標題  [閒聊] 贈送宏典用書+國考用書\n",
      "作者 chathin (確幸)\n",
      "時間 Sun Jul 19 23:12:29 2020\n",
      "標題  [請益] 一銀考試和信用卡聯合中心\n",
      "作者 foroutgoing (pumpkin)\n",
      "時間 Mon Jul 20 20:53:59 2020\n",
      "標題  Re: [閒聊] 邱顯智FB-台灣PAY還是行員PAY\n",
      "作者 lys730 (動靜自得)\n",
      "時間 Tue Jul 21 10:14:27 2020\n",
      "標題  (本文已被刪除) <minha>\n",
      "標題  [請益] 有關金融業出路\n",
      "作者 exist152015 (小波)\n",
      "時間 Wed Jul 22 11:01:17 2020\n",
      "標題  [閒聊] 有沒有在銀行實行能學到什麼？\n",
      "作者 riceworm520 (RW)\n",
      "時間 Wed Jul 22 14:00:48 2020\n",
      "標題  [新聞]遠東香格里拉金融從業人員優惠\n",
      "作者 nuwai57 (有沒有越線)\n",
      "標題  [公告] 請低調徵求互辦業績\n",
      "作者 neverli (想睡)\n",
      "時間 Thu May 13 20:21:32 2010\n",
      "標題  [公告] 銀行考試書籍請於此篇置底文集中推文！\n",
      "作者 neverli (想睡)\n",
      "時間 Mon Jul  5 23:43:55 2010\n",
      "標題  [公告] 板規 2020.06.13\n",
      "作者 neverli (想睡)\n",
      "時間 Sat Jun 13 06:12:00 2020\n"
     ]
    }
   ],
   "source": [
    "# 金融版\n",
    "import requests\n",
    "from bs4 import BeautifulSoup\n",
    "url = \"https://www.ptt.cc/bbs/Finance/index.html\"\n",
    "r = requests.get(url)\n",
    "response = r.text\n",
    "soup = BeautifulSoup(response,\"html5lib\")\n",
    "for d in soup.find_all(class_=\"title\"):\n",
    "    print('標題 ',d.text.replace('\\t', '').replace('\\n', ''))\n",
    "    try:\n",
    "        r = BeautifulSoup(requests.get('https://www.ptt.cc'+d.find('a')['href']).text, \"html5lib\")\n",
    "        print('作者 ' + r.find(class_='article-meta-value').text)\n",
    "    except:\n",
    "        continue\n",
    "    try:\n",
    "        r = BeautifulSoup(requests.get('https://www.ptt.cc'+d.find('a')['href']).text, \"html5lib\")\n",
    "        print('時間 ' + r.find_all(class_='article-meta-value')[3].text)\n",
    "    except:\n",
    "        continue"
   ]
  },
  {
   "cell_type": "code",
   "execution_count": null,
   "metadata": {},
   "outputs": [],
   "source": []
  },
  {
   "cell_type": "code",
   "execution_count": null,
   "metadata": {},
   "outputs": [],
   "source": []
  }
 ],
 "metadata": {
  "kernelspec": {
   "display_name": "Python 3",
   "language": "python",
   "name": "python3"
  },
  "language_info": {
   "codemirror_mode": {
    "name": "ipython",
    "version": 3
   },
   "file_extension": ".py",
   "mimetype": "text/x-python",
   "name": "python",
   "nbconvert_exporter": "python",
   "pygments_lexer": "ipython3",
   "version": "3.6.5"
  }
 },
 "nbformat": 4,
 "nbformat_minor": 2
}
